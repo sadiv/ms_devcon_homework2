{
 "cells": [
  {
   "cell_type": "code",
   "execution_count": 8,
   "metadata": {
    "collapsed": false
   },
   "outputs": [],
   "source": [
    "import time \n",
    "import requests\n",
    "import cv2  \n",
    "# pip3 install opencv-python\n",
    "import operator\n",
    "import numpy as np\n",
    "import pandas as pd\n",
    "\n",
    "# Import library to display results\n",
    "import matplotlib\n",
    "import matplotlib.pyplot as plt\n",
    "matplotlib.style.use('ggplot')\n",
    "%matplotlib inline \n",
    "# Display images within Jupyter\n",
    "\n",
    "# Variables\n",
    "\n",
    "_url_emotion = 'https://api.projectoxford.ai/emotion/v1.0/recognize'\n",
    "_url_face = 'https://api.projectoxford.ai/face/v1.0/detect'\n",
    "_key_emotion = 'c2e085530b824227a04d474f70b0dde1'\n",
    "_key_face = '1ea18500dd7c431cb6b8e7a79d20e93d'\n",
    "_maxNumRetries = 10\n",
    "\n",
    "\n",
    "headers_emotion = dict()\n",
    "headers_emotion['Ocp-Apim-Subscription-Key'] = _key_emotion\n",
    "headers_emotion['Content-Type'] = 'application/octet-stream'\n",
    "\n",
    "headers_face = dict()\n",
    "headers_face['Ocp-Apim-Subscription-Key'] = _key_face\n",
    "headers_face['Content-Type'] = 'application/octet-stream'"
   ]
  },
  {
   "cell_type": "code",
   "execution_count": 2,
   "metadata": {
    "collapsed": true
   },
   "outputs": [],
   "source": [
    "def processRequestEmotion( json, data, headers, params ):\n",
    "\n",
    "    \"\"\"\n",
    "    Helper function to process the request to Project Oxford\n",
    "\n",
    "    Parameters:\n",
    "    json: Used when processing images from its URL. See API Documentation\n",
    "    data: Used when processing image read from disk. See API Documentation\n",
    "    headers: Used to pass the key information and the data type request\n",
    "    \"\"\"\n",
    "\n",
    "    retries = 0\n",
    "    result = None\n",
    "\n",
    "    while True:\n",
    "\n",
    "        response = requests.request( 'post', _url_emotion, json = json, data = data, headers = headers, params = params )\n",
    "\n",
    "        if response.status_code == 429: \n",
    "\n",
    "            print( \"Message: %s\" % ( response.json()['error']['message'] ) )\n",
    "\n",
    "            if retries <= _maxNumRetries: \n",
    "                time.sleep(1) \n",
    "                retries += 1\n",
    "                continue\n",
    "            else: \n",
    "                print( 'Error: failed after retrying!' )\n",
    "                break\n",
    "\n",
    "        elif response.status_code == 200 or response.status_code == 201:\n",
    "\n",
    "            if 'content-length' in response.headers and int(response.headers['content-length']) == 0: \n",
    "                result = None \n",
    "            elif 'content-type' in response.headers and isinstance(response.headers['content-type'], str): \n",
    "                if 'application/json' in response.headers['content-type'].lower(): \n",
    "                    result = response.json() if response.content else None \n",
    "                elif 'image' in response.headers['content-type'].lower(): \n",
    "                    result = response.content\n",
    "        else:\n",
    "            print( \"Error code: %d\" % ( response.status_code ) )\n",
    "            print( \"Message: %s\" % ( response.json()['error']['message'] ) )\n",
    "\n",
    "        break\n",
    "        \n",
    "    return result"
   ]
  },
  {
   "cell_type": "code",
   "execution_count": 3,
   "metadata": {
    "collapsed": true
   },
   "outputs": [],
   "source": [
    "def processRequestFace( json, data, headers, params ):\n",
    "\n",
    "    \"\"\"\n",
    "    Helper function to process the request to Project Oxford\n",
    "\n",
    "    Parameters:\n",
    "    json: Used when processing images from its URL. See API Documentation\n",
    "    data: Used when processing image read from disk. See API Documentation\n",
    "    headers: Used to pass the key information and the data type request\n",
    "    \"\"\"\n",
    "\n",
    "    retries = 0\n",
    "    result = None\n",
    "\n",
    "    while True:\n",
    "\n",
    "        response = requests.request( 'post', _url_face, json = json, data = data, headers = headers, params = params )\n",
    "\n",
    "        if response.status_code == 429: \n",
    "\n",
    "            print( \"Message: %s\" % ( response.json()['error']['message'] ) )\n",
    "\n",
    "            if retries <= _maxNumRetries: \n",
    "                time.sleep(1) \n",
    "                retries += 1\n",
    "                continue\n",
    "            else: \n",
    "                print( 'Error: failed after retrying!' )\n",
    "                break\n",
    "\n",
    "        elif response.status_code == 200 or response.status_code == 201:\n",
    "\n",
    "            if 'content-length' in response.headers and int(response.headers['content-length']) == 0: \n",
    "                result = None \n",
    "            elif 'content-type' in response.headers and isinstance(response.headers['content-type'], str): \n",
    "                if 'application/json' in response.headers['content-type'].lower(): \n",
    "                    result = response.json() if response.content else None \n",
    "                elif 'image' in response.headers['content-type'].lower(): \n",
    "                    result = response.content\n",
    "        else:\n",
    "            print( \"Error code: %d\" % ( response.status_code ) )\n",
    "            print( \"Message: %s\" % ( response.json()['error']['message'] ) )\n",
    "\n",
    "        break\n",
    "        \n",
    "    return result\n",
    "\n"
   ]
  },
  {
   "cell_type": "code",
   "execution_count": 4,
   "metadata": {
    "collapsed": true
   },
   "outputs": [],
   "source": [
    "def renderResultOnImage( result, img ):\n",
    "    \n",
    "    \"\"\"Display the obtained results onto the input image\"\"\"\n",
    "    \n",
    "    for currFace in result:\n",
    "        faceRectangle = currFace['faceRectangle']\n",
    "        cv2.rectangle( img,(faceRectangle['left'],faceRectangle['top']),\n",
    "                           (faceRectangle['left']+faceRectangle['width'], faceRectangle['top'] + faceRectangle['height']),\n",
    "                       color = (255,0,0), thickness = 5 )\n",
    "\n",
    "\n",
    "    for currFace in result:\n",
    "        faceRectangle = currFace['faceRectangle']\n",
    "        currEmotion = max(currFace['scores'].items(), key=operator.itemgetter(1))[0]\n",
    "\n",
    "\n",
    "        textToWrite = \"%s\" % ( currEmotion )\n",
    "        cv2.putText( img, textToWrite, (faceRectangle['left'],faceRectangle['top']-10), cv2.FONT_HERSHEY_SIMPLEX, 0.5, (255,0,0), 1 )"
   ]
  },
  {
   "cell_type": "code",
   "execution_count": 19,
   "metadata": {
    "collapsed": false
   },
   "outputs": [
    {
     "name": "stdout",
     "output_type": "stream",
     "text": [
      "0\n"
     ]
    }
   ],
   "source": [
    "cap = cv2.VideoCapture('output.avi')\n",
    "length = int(cap.get(cv2.CAP_PROP_FRAME_COUNT))\n",
    "face_cascade = cv2.CascadeClassifier('haarcascade_frontalface_alt2.xml')\n",
    "\n",
    "print(length)\n",
    "json = None\n",
    "params = None\n",
    "\n",
    "list_of_dicts = list()\n",
    "list_of_faces = list()\n",
    "for i in range(length // 4):\n",
    "    print(i)\n",
    "    ret, frame = cap.read()\n",
    "    if i % 25 != 0:\n",
    "        continue\n",
    "    gray = cv2.cvtColor(frame, cv2.COLOR_BGR2GRAY)\n",
    "    \n",
    "    faces = face_cascade.detectMultiScale(gray, 1.3, 5)\n",
    "    if len(faces) == 0:\n",
    "        continue\n",
    "    \n",
    "    file = cv2.imencode('.jpg', frame)[1].tostring()\n",
    "    \n",
    "    result = processRequestFace( json, file, headers_emotion, params )\n",
    "    if len(result) != 0:\n",
    "        for face in result:  # largest rect\n",
    "            list_of_faces.append((i, face['faceId'], face['faceRectangle']))\n",
    "        \n",
    "        cv2.imwrite('images\\\\%s.jpg' % i,gray)\n",
    "    else:\n",
    "        continue"
   ]
  },
  {
   "cell_type": "code",
   "execution_count": 12,
   "metadata": {
    "collapsed": false
   },
   "outputs": [
    {
     "ename": "IndentationError",
     "evalue": "unexpected indent (<ipython-input-12-c01e747ed079>, line 9)",
     "output_type": "error",
     "traceback": [
      "\u001b[0;36m  File \u001b[0;32m\"<ipython-input-12-c01e747ed079>\"\u001b[0;36m, line \u001b[0;32m9\u001b[0m\n\u001b[0;31m    result = processRequest( json, file, headers_emotion, params )\u001b[0m\n\u001b[0m    ^\u001b[0m\n\u001b[0;31mIndentationError\u001b[0m\u001b[0;31m:\u001b[0m unexpected indent\n"
     ]
    }
   ],
   "source": [
    "from  collections import defaultdict\n",
    "\n",
    "\n",
    "counter = defaultdict(int)\n",
    "for e in list_of_faces:\n",
    "    counter[e[1]] += 1\n",
    "max_face_id, max_face_count = max(counter.iteritems(), key=lambda x: x[1])\n",
    "print(max_face_id, max_face_count)"
   ]
  },
  {
   "cell_type": "code",
   "execution_count": null,
   "metadata": {
    "collapsed": false
   },
   "outputs": [],
   "source": [
    "for e in list_of_faces:\n",
    "    if e[1] != max_face_id:\n",
    "        continue\n",
    "    i = e[0]\n",
    "    rect = e[2]\n",
    "\n",
    "    pathToFileInDisk = r'images\\\\%s.jpg' % i\n",
    "    with open( pathToFileInDisk, 'rb' ) as f:\n",
    "        file = f.read()\n",
    "        \n",
    "    json = {'faceRectangles' : rect}\n",
    "    result = processRequest( json, file, headers_emotion, params )\n",
    "    \n",
    "    if len(result) != 0:\n",
    "        scores = result[0]['scores']\n",
    "        scores['frame'] = i\n",
    "        \n",
    "        list_of_dicts.append(scores)\n",
    "    \n",
    "    time.sleep(0.5)"
   ]
  },
  {
   "cell_type": "code",
   "execution_count": 139,
   "metadata": {
    "collapsed": false
   },
   "outputs": [
    {
     "data": {
      "text/html": [
       "<div>\n",
       "<table border=\"1\" class=\"dataframe\">\n",
       "  <thead>\n",
       "    <tr style=\"text-align: right;\">\n",
       "      <th></th>\n",
       "      <th>anger</th>\n",
       "      <th>contempt</th>\n",
       "      <th>disgust</th>\n",
       "      <th>fear</th>\n",
       "      <th>happiness</th>\n",
       "      <th>neutral</th>\n",
       "      <th>sadness</th>\n",
       "      <th>surprise</th>\n",
       "    </tr>\n",
       "  </thead>\n",
       "  <tbody>\n",
       "    <tr>\n",
       "      <th>count</th>\n",
       "      <td>1.020000e+02</td>\n",
       "      <td>1.020000e+02</td>\n",
       "      <td>1.020000e+02</td>\n",
       "      <td>1.020000e+02</td>\n",
       "      <td>102.000000</td>\n",
       "      <td>1.020000e+02</td>\n",
       "      <td>1.020000e+02</td>\n",
       "      <td>1.020000e+02</td>\n",
       "    </tr>\n",
       "    <tr>\n",
       "      <th>mean</th>\n",
       "      <td>2.533258e-02</td>\n",
       "      <td>7.779042e-04</td>\n",
       "      <td>3.500731e-03</td>\n",
       "      <td>1.384102e-03</td>\n",
       "      <td>0.881631</td>\n",
       "      <td>2.998928e-02</td>\n",
       "      <td>1.613260e-03</td>\n",
       "      <td>5.577108e-02</td>\n",
       "    </tr>\n",
       "    <tr>\n",
       "      <th>std</th>\n",
       "      <td>1.147099e-01</td>\n",
       "      <td>2.980491e-03</td>\n",
       "      <td>1.118660e-02</td>\n",
       "      <td>7.325987e-03</td>\n",
       "      <td>0.273166</td>\n",
       "      <td>1.063834e-01</td>\n",
       "      <td>9.116493e-03</td>\n",
       "      <td>1.428507e-01</td>\n",
       "    </tr>\n",
       "    <tr>\n",
       "      <th>min</th>\n",
       "      <td>9.026579e-13</td>\n",
       "      <td>1.091195e-13</td>\n",
       "      <td>4.589814e-12</td>\n",
       "      <td>6.590264e-15</td>\n",
       "      <td>0.000003</td>\n",
       "      <td>2.064936e-12</td>\n",
       "      <td>5.190451e-14</td>\n",
       "      <td>4.884418e-11</td>\n",
       "    </tr>\n",
       "    <tr>\n",
       "      <th>25%</th>\n",
       "      <td>2.520375e-08</td>\n",
       "      <td>5.939951e-09</td>\n",
       "      <td>3.098541e-07</td>\n",
       "      <td>2.320808e-09</td>\n",
       "      <td>0.958586</td>\n",
       "      <td>2.758943e-07</td>\n",
       "      <td>6.673851e-09</td>\n",
       "      <td>9.481045e-07</td>\n",
       "    </tr>\n",
       "    <tr>\n",
       "      <th>50%</th>\n",
       "      <td>1.402727e-06</td>\n",
       "      <td>5.157954e-07</td>\n",
       "      <td>1.322153e-05</td>\n",
       "      <td>1.047495e-06</td>\n",
       "      <td>0.999782</td>\n",
       "      <td>2.959487e-05</td>\n",
       "      <td>1.312736e-06</td>\n",
       "      <td>3.587733e-05</td>\n",
       "    </tr>\n",
       "    <tr>\n",
       "      <th>75%</th>\n",
       "      <td>4.022723e-04</td>\n",
       "      <td>6.146219e-05</td>\n",
       "      <td>4.566926e-04</td>\n",
       "      <td>7.000722e-05</td>\n",
       "      <td>0.999993</td>\n",
       "      <td>1.720139e-03</td>\n",
       "      <td>1.160056e-04</td>\n",
       "      <td>1.263912e-02</td>\n",
       "    </tr>\n",
       "    <tr>\n",
       "      <th>max</th>\n",
       "      <td>7.587706e-01</td>\n",
       "      <td>2.473738e-02</td>\n",
       "      <td>6.902463e-02</td>\n",
       "      <td>6.104874e-02</td>\n",
       "      <td>1.000000</td>\n",
       "      <td>6.932156e-01</td>\n",
       "      <td>8.932859e-02</td>\n",
       "      <td>8.004259e-01</td>\n",
       "    </tr>\n",
       "  </tbody>\n",
       "</table>\n",
       "</div>"
      ],
      "text/plain": [
       "              anger      contempt       disgust          fear   happiness  \\\n",
       "count  1.020000e+02  1.020000e+02  1.020000e+02  1.020000e+02  102.000000   \n",
       "mean   2.533258e-02  7.779042e-04  3.500731e-03  1.384102e-03    0.881631   \n",
       "std    1.147099e-01  2.980491e-03  1.118660e-02  7.325987e-03    0.273166   \n",
       "min    9.026579e-13  1.091195e-13  4.589814e-12  6.590264e-15    0.000003   \n",
       "25%    2.520375e-08  5.939951e-09  3.098541e-07  2.320808e-09    0.958586   \n",
       "50%    1.402727e-06  5.157954e-07  1.322153e-05  1.047495e-06    0.999782   \n",
       "75%    4.022723e-04  6.146219e-05  4.566926e-04  7.000722e-05    0.999993   \n",
       "max    7.587706e-01  2.473738e-02  6.902463e-02  6.104874e-02    1.000000   \n",
       "\n",
       "            neutral       sadness      surprise  \n",
       "count  1.020000e+02  1.020000e+02  1.020000e+02  \n",
       "mean   2.998928e-02  1.613260e-03  5.577108e-02  \n",
       "std    1.063834e-01  9.116493e-03  1.428507e-01  \n",
       "min    2.064936e-12  5.190451e-14  4.884418e-11  \n",
       "25%    2.758943e-07  6.673851e-09  9.481045e-07  \n",
       "50%    2.959487e-05  1.312736e-06  3.587733e-05  \n",
       "75%    1.720139e-03  1.160056e-04  1.263912e-02  \n",
       "max    6.932156e-01  8.932859e-02  8.004259e-01  "
      ]
     },
     "execution_count": 139,
     "metadata": {},
     "output_type": "execute_result"
    }
   ],
   "source": [
    "df = pd.DataFrame(list_of_dicts)\n",
    "df = df.set_index('frame')\n",
    "df.describe()"
   ]
  },
  {
   "cell_type": "code",
   "execution_count": 169,
   "metadata": {
    "collapsed": false,
    "scrolled": true
   },
   "outputs": [
    {
     "data": {
      "text/plain": [
       "array([<matplotlib.axes._subplots.AxesSubplot object at 0x11F8A410>,\n",
       "       <matplotlib.axes._subplots.AxesSubplot object at 0x11FB2FB0>,\n",
       "       <matplotlib.axes._subplots.AxesSubplot object at 0x11FE3090>,\n",
       "       <matplotlib.axes._subplots.AxesSubplot object at 0x11FFDF70>], dtype=object)"
      ]
     },
     "execution_count": 169,
     "metadata": {},
     "output_type": "execute_result"
    },
    {
     "data": {
      "image/png": "[encoded data removed]",
      "text/plain": [
       "<matplotlib.figure.Figure at 0x11f1e650>"
      ]
     },
     "metadata": {},
     "output_type": "display_data"
    }
   ],
   "source": [
    "df[['happiness', 'anger', 'surprise', 'neutral']].plot(subplots=True, figsize=(6, 6))"
   ]
  },
  {
   "cell_type": "code",
   "execution_count": 162,
   "metadata": {
    "collapsed": false
   },
   "outputs": [
    {
     "data": {
      "text/plain": [
       "<matplotlib.axes._subplots.AxesSubplot at 0xa529270>"
      ]
     },
     "execution_count": 162,
     "metadata": {},
     "output_type": "execute_result"
    },
    {
     "data": {
      "image/png": "[encoded data removed]",
      "text/plain": [
       "<matplotlib.figure.Figure at 0x78465b0>"
      ]
     },
     "metadata": {},
     "output_type": "display_data"
    }
   ],
   "source": [
    "df.plot.box(sym='r+')"
   ]
  }
 ],
 "metadata": {
  "kernelspec": {
   "display_name": "Python 3",
   "language": "python",
   "name": "python3"
  },
  "language_info": {
   "codemirror_mode": {
    "name": "ipython",
    "version": 3
   },
   "file_extension": ".py",
   "mimetype": "text/x-python",
   "name": "python",
   "nbconvert_exporter": "python",
   "pygments_lexer": "ipython3",
   "version": "3.5.2"
  }
 },
 "nbformat": 4,
 "nbformat_minor": 0
}
